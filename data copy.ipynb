{
 "cells": [
  {
   "cell_type": "code",
   "execution_count": 1,
   "metadata": {},
   "outputs": [
    {
     "name": "stderr",
     "output_type": "stream",
     "text": [
      "/usr/local/lib/python3.10/dist-packages/tqdm/auto.py:21: TqdmWarning: IProgress not found. Please update jupyter and ipywidgets. See https://ipywidgets.readthedocs.io/en/stable/user_install.html\n",
      "  from .autonotebook import tqdm as notebook_tqdm\n"
     ]
    }
   ],
   "source": [
    "import matplotlib.pyplot as plt\n",
    "import numpy as np\n",
    "import requests\n",
    "import seaborn as sns\n",
    "import torch\n",
    "from datasets import load_dataset\n",
    "from PIL import Image\n",
    "from transformers import CLIPModel, CLIPProcessor, CLIPTokenizerFast\n",
    "from wavelet_spectrogram import cwt_spectrogram\n",
    "import itertools\n",
    "import os\n"
   ]
  },
  {
   "cell_type": "code",
   "execution_count": 2,
   "metadata": {},
   "outputs": [
    {
     "name": "stderr",
     "output_type": "stream",
     "text": [
      "Downloading readme: 100%|██████████| 22.0/22.0 [00:00<00:00, 250kB/s]\n",
      "Downloading data: 100%|██████████| 160M/160M [00:36<00:00, 4.36MB/s]\n",
      "Downloading data: 100%|██████████| 40.2M/40.2M [00:09<00:00, 4.40MB/s]\n",
      "Downloading data files: 100%|██████████| 2/2 [00:45<00:00, 22.93s/it]\n",
      "Extracting data files: 100%|██████████| 2/2 [00:00<00:00, 2815.91it/s]\n",
      "Generating train split: 10436 examples [00:00, 11506.94 examples/s]\n",
      "Generating test split: 2614 examples [00:00, 12153.55 examples/s]\n"
     ]
    },
    {
     "data": {
      "text/plain": [
       "[('label', 6),\n",
       " ('AF3-0', 4284.102564),\n",
       " ('AF3-1', 4281.073718),\n",
       " ('AF3-2', 4296.923077),\n",
       " ('AF3-3', 4312.588141),\n",
       " ('AF3-4', 4318.141025),\n",
       " ('AF3-5', 4314.20673),\n",
       " ('AF3-6', 4296.65064)]"
      ]
     },
     "execution_count": 2,
     "metadata": {},
     "output_type": "execute_result"
    }
   ],
   "source": [
    "dataset = load_dataset(\"DavidVivancos/MindBigData2022_MNIST_IN\")\n",
    "list(dataset[\"train\"][0].items())[:8]\n"
   ]
  },
  {
   "cell_type": "code",
   "execution_count": 3,
   "metadata": {},
   "outputs": [
    {
     "data": {
      "text/plain": [
       "['AF3', 'AF4', 'PZ', 'T7', 'T8']"
      ]
     },
     "execution_count": 3,
     "metadata": {},
     "output_type": "execute_result"
    }
   ],
   "source": [
    "channels = sorted(set(map(lambda x: x.split(\"-\")[0], dataset[\"train\"][0].keys())) - {'label'})\n",
    "channels\n"
   ]
  },
  {
   "cell_type": "code",
   "execution_count": 4,
   "metadata": {},
   "outputs": [],
   "source": [
    "# B, C, H, W\n",
    "C = len(channels)\n",
    "H, W = 168, 256\n",
    "L = 256\n",
    "S = max(H, W)\n"
   ]
  },
  {
   "cell_type": "code",
   "execution_count": 5,
   "metadata": {},
   "outputs": [],
   "source": [
    "map_digit_to_token = {\n",
    "    0: \"zero\",\n",
    "    1: \"one\",\n",
    "    2: \"two\",\n",
    "    3: \"three\",\n",
    "    4: \"four\",\n",
    "    5: \"five\",\n",
    "    6: \"six\",\n",
    "    7: \"seven\",\n",
    "    8: \"eight\",\n",
    "    9: \"nine\",\n",
    "}\n"
   ]
  },
  {
   "cell_type": "code",
   "execution_count": 6,
   "metadata": {},
   "outputs": [],
   "source": [
    "tokenizer = CLIPTokenizerFast.from_pretrained(\"openai/clip-vit-base-patch32\")\n"
   ]
  },
  {
   "cell_type": "code",
   "execution_count": 7,
   "metadata": {},
   "outputs": [],
   "source": [
    "def preprocess(inputs, return_loss=True):\n",
    "  labels = [map_digit_to_token[label] for label in inputs[\"label\"]]\n",
    "  tokenized_labels = tokenizer(labels, padding=True, return_tensors=\"pt\")\n",
    "  inputs[\"input_ids\"] = tokenized_labels.input_ids\n",
    "  inputs[\"attention_mask\"] = tokenized_labels.attention_mask\n",
    "  B = len(inputs[\"label\"])\n",
    "  samples = np.zeros((B, C, S, S))\n",
    "  for b in range(B):\n",
    "    for i, channel in enumerate(channels):\n",
    "      sample = np.array([inputs[f\"{channel}-{j}\"][b] for j in range(L)])\n",
    "      power, *_ = cwt_spectrogram(sample, 120, nNotes=24, detrend=True, normalize=True)\n",
    "      samples[b, i, :min(H, S), :min(W, S)] = power.squeeze()\n",
    "  inputs[\"pixel_values\"] = samples\n",
    "  return inputs\n"
   ]
  },
  {
   "cell_type": "code",
   "execution_count": 8,
   "metadata": {},
   "outputs": [
    {
     "data": {
      "text/plain": [
       "([6, 6, 6, 4, 0, 7, 0, 2],\n",
       " tensor([[49406,  4093, 49407],\n",
       "         [49406,  4093, 49407],\n",
       "         [49406,  4093, 49407],\n",
       "         [49406,  2721, 49407],\n",
       "         [49406,  5848, 49407],\n",
       "         [49406,  5757, 49407],\n",
       "         [49406,  5848, 49407],\n",
       "         [49406,  1237, 49407]]),\n",
       " (8, 5, 256, 256))"
      ]
     },
     "execution_count": 8,
     "metadata": {},
     "output_type": "execute_result"
    }
   ],
   "source": [
    "item = preprocess(dataset[\"train\"][:8])\n",
    "item[\"label\"], item[\"input_ids\"], item['pixel_values'].shape\n"
   ]
  },
  {
   "cell_type": "code",
   "execution_count": 9,
   "metadata": {},
   "outputs": [],
   "source": [
    "remove_columns = [f\"{channel}-{i}\" for channel, i in itertools.product(channels, range(L))] + [\"label\"]\n"
   ]
  },
  {
   "cell_type": "code",
   "execution_count": 10,
   "metadata": {},
   "outputs": [
    {
     "name": "stderr",
     "output_type": "stream",
     "text": [
      "Map (num_proc=24): 100%|██████████| 10436/10436 [00:44<00:00, 235.84 examples/s] \n",
      "Map (num_proc=24): 100%|██████████| 2614/2614 [00:09<00:00, 269.48 examples/s] \n"
     ]
    }
   ],
   "source": [
    "preprocessed_dataset = dataset.map(preprocess, batched=True, remove_columns=remove_columns, num_proc=24)\n"
   ]
  },
  {
   "cell_type": "code",
   "execution_count": 11,
   "metadata": {},
   "outputs": [],
   "source": [
    "from transformers import CLIPVisionConfig, CLIPVisionModelWithProjection, CLIPModel, CLIPProcessor\n"
   ]
  },
  {
   "cell_type": "code",
   "execution_count": 12,
   "metadata": {},
   "outputs": [],
   "source": [
    "configuration = CLIPVisionConfig(\n",
    "    image_size=max(H, W),\n",
    "    num_channels=C,\n",
    "    num_hidden_layers=6,\n",
    ")\n",
    "vision_model = CLIPVisionModelWithProjection(configuration)\n"
   ]
  },
  {
   "cell_type": "code",
   "execution_count": 13,
   "metadata": {},
   "outputs": [],
   "source": [
    "from typing import Optional, Tuple, Union\n",
    "\n",
    "\n",
    "import torch\n",
    "from transformers.models.clip.modeling_clip import CLIPOutput\n",
    "from transformers.models.clip.modeling_clip import CLIP_INPUTS_DOCSTRING, CLIPConfig\n",
    "from transformers.utils import (\n",
    "    ModelOutput,\n",
    "    add_start_docstrings,\n",
    "    add_start_docstrings_to_model_forward,\n",
    "    logging,\n",
    "    replace_return_docstrings,\n",
    ")\n",
    "\n",
    "class TrainableCLIPModel(CLIPModel):\n",
    "    @add_start_docstrings_to_model_forward(CLIP_INPUTS_DOCSTRING)\n",
    "    @replace_return_docstrings(output_type=CLIPOutput, config_class=CLIPConfig)\n",
    "    def forward(\n",
    "        self,\n",
    "        input_ids: Optional[torch.LongTensor] = None,\n",
    "        pixel_values: Optional[torch.FloatTensor] = None,\n",
    "        attention_mask: Optional[torch.Tensor] = None,\n",
    "        position_ids: Optional[torch.LongTensor] = None,\n",
    "        return_loss: Optional[bool] = True,\n",
    "        output_attentions: Optional[bool] = None,\n",
    "        output_hidden_states: Optional[bool] = None,\n",
    "        return_dict: Optional[bool] = None,\n",
    "    ) -> Union[Tuple, CLIPOutput]:\n",
    "        r\"\"\"\n",
    "        Returns:\n",
    "\n",
    "        Examples:\n",
    "\n",
    "        ```python\n",
    "        >>> from PIL import Image\n",
    "        >>> import requests\n",
    "        >>> from transformers import AutoProcessor, CLIPModel\n",
    "\n",
    "        >>> model = CLIPModel.from_pretrained(\"openai/clip-vit-base-patch32\")\n",
    "        >>> processor = AutoProcessor.from_pretrained(\"openai/clip-vit-base-patch32\")\n",
    "\n",
    "        >>> url = \"http://images.cocodataset.org/val2017/000000039769.jpg\"\n",
    "        >>> image = Image.open(requests.get(url, stream=True).raw)\n",
    "\n",
    "        >>> inputs = processor(\n",
    "        ...     text=[\"a photo of a cat\", \"a photo of a dog\"], images=image, return_tensors=\"pt\", padding=True\n",
    "        ... )\n",
    "\n",
    "        >>> outputs = model(**inputs)\n",
    "        >>> logits_per_image = outputs.logits_per_image  # this is the image-text similarity score\n",
    "        >>> probs = logits_per_image.softmax(dim=1)  # we can take the softmax to get the label probabilities\n",
    "        ```\"\"\"\n",
    "        return super().forward(\n",
    "            input_ids=input_ids,\n",
    "            pixel_values=pixel_values,\n",
    "            attention_mask=attention_mask,\n",
    "            position_ids=position_ids,\n",
    "            return_loss=return_loss,\n",
    "            output_attentions=output_attentions,\n",
    "            output_hidden_states=output_hidden_states,\n",
    "            return_dict=return_dict,\n",
    "        )\n"
   ]
  },
  {
   "cell_type": "code",
   "execution_count": 31,
   "metadata": {},
   "outputs": [],
   "source": [
    "model = TrainableCLIPModel.from_pretrained(\"openai/clip-vit-base-patch32\")\n",
    "processor = CLIPProcessor.from_pretrained(\"openai/clip-vit-base-patch32\")\n"
   ]
  },
  {
   "cell_type": "code",
   "execution_count": 33,
   "metadata": {},
   "outputs": [],
   "source": [
    "model.vision_model = vision_model.vision_model\n"
   ]
  },
  {
   "cell_type": "code",
   "execution_count": 34,
   "metadata": {},
   "outputs": [],
   "source": [
    "for p in model.text_model.parameters():\n",
    "  p.requires_grad = False\n",
    "for p in model.text_projection.parameters():\n",
    "  p.requires_grad = False\n"
   ]
  },
  {
   "cell_type": "code",
   "execution_count": 35,
   "metadata": {},
   "outputs": [
    {
     "data": {
      "text/plain": [
       "TrainableCLIPModel(\n",
       "  (text_model): CLIPTextTransformer(\n",
       "    (embeddings): CLIPTextEmbeddings(\n",
       "      (token_embedding): Embedding(49408, 512)\n",
       "      (position_embedding): Embedding(77, 512)\n",
       "    )\n",
       "    (encoder): CLIPEncoder(\n",
       "      (layers): ModuleList(\n",
       "        (0-11): 12 x CLIPEncoderLayer(\n",
       "          (self_attn): CLIPAttention(\n",
       "            (k_proj): Linear(in_features=512, out_features=512, bias=True)\n",
       "            (v_proj): Linear(in_features=512, out_features=512, bias=True)\n",
       "            (q_proj): Linear(in_features=512, out_features=512, bias=True)\n",
       "            (out_proj): Linear(in_features=512, out_features=512, bias=True)\n",
       "          )\n",
       "          (layer_norm1): LayerNorm((512,), eps=1e-05, elementwise_affine=True)\n",
       "          (mlp): CLIPMLP(\n",
       "            (activation_fn): QuickGELUActivation()\n",
       "            (fc1): Linear(in_features=512, out_features=2048, bias=True)\n",
       "            (fc2): Linear(in_features=2048, out_features=512, bias=True)\n",
       "          )\n",
       "          (layer_norm2): LayerNorm((512,), eps=1e-05, elementwise_affine=True)\n",
       "        )\n",
       "      )\n",
       "    )\n",
       "    (final_layer_norm): LayerNorm((512,), eps=1e-05, elementwise_affine=True)\n",
       "  )\n",
       "  (vision_model): CLIPVisionTransformer(\n",
       "    (embeddings): CLIPVisionEmbeddings(\n",
       "      (patch_embedding): Conv2d(5, 768, kernel_size=(32, 32), stride=(32, 32), bias=False)\n",
       "      (position_embedding): Embedding(65, 768)\n",
       "    )\n",
       "    (pre_layrnorm): LayerNorm((768,), eps=1e-05, elementwise_affine=True)\n",
       "    (encoder): CLIPEncoder(\n",
       "      (layers): ModuleList(\n",
       "        (0-5): 6 x CLIPEncoderLayer(\n",
       "          (self_attn): CLIPAttention(\n",
       "            (k_proj): Linear(in_features=768, out_features=768, bias=True)\n",
       "            (v_proj): Linear(in_features=768, out_features=768, bias=True)\n",
       "            (q_proj): Linear(in_features=768, out_features=768, bias=True)\n",
       "            (out_proj): Linear(in_features=768, out_features=768, bias=True)\n",
       "          )\n",
       "          (layer_norm1): LayerNorm((768,), eps=1e-05, elementwise_affine=True)\n",
       "          (mlp): CLIPMLP(\n",
       "            (activation_fn): QuickGELUActivation()\n",
       "            (fc1): Linear(in_features=768, out_features=3072, bias=True)\n",
       "            (fc2): Linear(in_features=3072, out_features=768, bias=True)\n",
       "          )\n",
       "          (layer_norm2): LayerNorm((768,), eps=1e-05, elementwise_affine=True)\n",
       "        )\n",
       "      )\n",
       "    )\n",
       "    (post_layernorm): LayerNorm((768,), eps=1e-05, elementwise_affine=True)\n",
       "  )\n",
       "  (visual_projection): Linear(in_features=768, out_features=512, bias=False)\n",
       "  (text_projection): Linear(in_features=512, out_features=512, bias=False)\n",
       ")"
      ]
     },
     "execution_count": 35,
     "metadata": {},
     "output_type": "execute_result"
    }
   ],
   "source": [
    "model\n"
   ]
  },
  {
   "cell_type": "code",
   "execution_count": 36,
   "metadata": {},
   "outputs": [
    {
     "name": "stdout",
     "output_type": "stream",
     "text": [
      "All Parameters: 110.334465M\n",
      "Trainable Parameters: 46.906369M\n"
     ]
    }
   ],
   "source": [
    "print(f\"All Parameters: {sum(p.numel() for p in model.parameters()) / 1e6}M\")\n",
    "print(f\"Trainable Parameters: {sum(p.numel() for p in model.parameters() if p.requires_grad) / 1e6}M\")\n"
   ]
  },
  {
   "cell_type": "code",
   "execution_count": 37,
   "metadata": {},
   "outputs": [],
   "source": [
    "from torchvision.transforms import Pad\n"
   ]
  },
  {
   "cell_type": "code",
   "execution_count": 38,
   "metadata": {},
   "outputs": [],
   "source": [
    "from torch.utils.data import DataLoader\n",
    "\n",
    "dataloader = DataLoader(preprocessed_dataset[\"train\"].with_format(\"torch\"), batch_size=128, shuffle=True)\n"
   ]
  },
  {
   "cell_type": "code",
   "execution_count": 39,
   "metadata": {},
   "outputs": [],
   "source": [
    "from torch.optim import AdamW\n"
   ]
  },
  {
   "cell_type": "code",
   "execution_count": 40,
   "metadata": {},
   "outputs": [],
   "source": [
    "from tqdm import tqdm\n"
   ]
  },
  {
   "cell_type": "code",
   "execution_count": 41,
   "metadata": {},
   "outputs": [],
   "source": [
    "# model = model.to(\"cuda\")\n"
   ]
  },
  {
   "cell_type": "code",
   "execution_count": 42,
   "metadata": {},
   "outputs": [],
   "source": [
    "# optimizer = AdamW(model.parameters(), lr=1e-3)\n"
   ]
  },
  {
   "cell_type": "code",
   "execution_count": 43,
   "metadata": {},
   "outputs": [],
   "source": [
    "# losses = []\n",
    "# for e in range(20):\n",
    "#     loss = 0\n",
    "#     for i, inputs in (pbar := tqdm(enumerate(dataloader), total=len(dataloader))):\n",
    "#         inputs = {k: v.to(\"cuda\") for k, v in inputs.items()}\n",
    "#         clip_output = model(**inputs, return_loss=True)\n",
    "#         loss += clip_output.loss.item()\n",
    "#         optimizer.zero_grad()\n",
    "#         clip_output.loss.backward()\n",
    "#         optimizer.step()\n",
    "#         pbar.set_description(f\"Epoch {e}, Loss {loss / (i + 1):.4f}\")\n",
    "#     losses.append(loss / (i + 1))\n"
   ]
  },
  {
   "cell_type": "code",
   "execution_count": 44,
   "metadata": {},
   "outputs": [],
   "source": [
    "from transformers import TrainingArguments, Trainer\n"
   ]
  },
  {
   "cell_type": "code",
   "execution_count": 45,
   "metadata": {},
   "outputs": [],
   "source": [
    "preprocessed_dataset['train'], preprocessed_dataset['validation'] = preprocessed_dataset['train'].train_test_split(.1).values()\n"
   ]
  },
  {
   "cell_type": "code",
   "execution_count": 46,
   "metadata": {},
   "outputs": [],
   "source": [
    "training_args = TrainingArguments(\n",
    "    output_dir=\"clep_trainer\",\n",
    "    per_device_train_batch_size=64,\n",
    "    per_device_eval_batch_size=64,\n",
    "    logging_steps=1,\n",
    "    tf32=True,\n",
    "    num_train_epochs=20,\n",
    "    learning_rate=3e-4,\n",
    "    # evaluation_strategy=\"epoch\",\n",
    "    evaluation_strategy=\"steps\",\n",
    "    eval_steps=1,\n",
    "    save_strategy=\"steps\",\n",
    "    save_total_limit=3,\n",
    "    load_best_model_at_end=True,\n",
    "    torch_compile=True,\n",
    ")\n",
    "\n",
    "\n",
    "trainer = Trainer(\n",
    "    model=model,\n",
    "    args=training_args,\n",
    "    train_dataset=preprocessed_dataset[\"train\"],\n",
    "    eval_dataset=preprocessed_dataset[\"validation\"],\n",
    "    # compute_metrics=compute_metrics,\n",
    ")\n"
   ]
  },
  {
   "cell_type": "code",
   "execution_count": 47,
   "metadata": {},
   "outputs": [
    {
     "ename": "InternalTorchDynamoError",
     "evalue": "",
     "output_type": "error",
     "traceback": [
      "\u001b[0;31m---------------------------------------------------------------------------\u001b[0m",
      "\u001b[0;31mOSError\u001b[0m                                   Traceback (most recent call last)",
      "File \u001b[0;32m/usr/local/lib/python3.10/dist-packages/torch/_dynamo/convert_frame.py:407\u001b[0m, in \u001b[0;36m_compile\u001b[0;34m(code, globals, locals, builtins, compiler_fn, one_graph, export, export_constraints, hooks, frame, frame_state)\u001b[0m\n\u001b[1;32m    406\u001b[0m \u001b[39mtry\u001b[39;00m:\n\u001b[0;32m--> 407\u001b[0m     out_code \u001b[39m=\u001b[39m transform_code_object(code, transform)\n\u001b[1;32m    408\u001b[0m     orig_code_map[out_code] \u001b[39m=\u001b[39m code\n",
      "File \u001b[0;32m/usr/local/lib/python3.10/dist-packages/torch/_dynamo/bytecode_transformation.py:1000\u001b[0m, in \u001b[0;36mtransform_code_object\u001b[0;34m(code, transformations, safe)\u001b[0m\n\u001b[1;32m    998\u001b[0m propagate_line_nums(instructions)\n\u001b[0;32m-> 1000\u001b[0m transformations(instructions, code_options)\n\u001b[1;32m   1001\u001b[0m \u001b[39mreturn\u001b[39;00m clean_and_assemble_instructions(instructions, keys, code_options)[\u001b[39m1\u001b[39m]\n",
      "File \u001b[0;32m/usr/local/lib/python3.10/dist-packages/torch/_dynamo/convert_frame.py:377\u001b[0m, in \u001b[0;36m_compile.<locals>.transform\u001b[0;34m(instructions, code_options)\u001b[0m\n\u001b[1;32m    376\u001b[0m \u001b[39mnonlocal\u001b[39;00m output\n\u001b[0;32m--> 377\u001b[0m tracer \u001b[39m=\u001b[39m InstructionTranslator(\n\u001b[1;32m    378\u001b[0m     instructions,\n\u001b[1;32m    379\u001b[0m     code,\n\u001b[1;32m    380\u001b[0m     \u001b[39mlocals\u001b[39;49m,\n\u001b[1;32m    381\u001b[0m     \u001b[39mglobals\u001b[39;49m,\n\u001b[1;32m    382\u001b[0m     builtins,\n\u001b[1;32m    383\u001b[0m     code_options,\n\u001b[1;32m    384\u001b[0m     compiler_fn,\n\u001b[1;32m    385\u001b[0m     one_graph,\n\u001b[1;32m    386\u001b[0m     export,\n\u001b[1;32m    387\u001b[0m     export_constraints,\n\u001b[1;32m    388\u001b[0m     mutated_closure_cell_contents,\n\u001b[1;32m    389\u001b[0m     frame_state\u001b[39m=\u001b[39;49mframe_state,\n\u001b[1;32m    390\u001b[0m )\n\u001b[1;32m    391\u001b[0m \u001b[39mwith\u001b[39;00m tracing(tracer\u001b[39m.\u001b[39moutput\u001b[39m.\u001b[39mtracing_context):\n",
      "File \u001b[0;32m/usr/local/lib/python3.10/dist-packages/torch/_dynamo/symbolic_convert.py:1956\u001b[0m, in \u001b[0;36mInstructionTranslator.__init__\u001b[0;34m(self, instructions, f_code, f_locals, f_globals, f_builtins, code_options, compiler_fn, one_graph, export, export_constraints, mutated_closure_cell_contents, frame_state)\u001b[0m\n\u001b[1;32m   1954\u001b[0m \u001b[39mvars\u001b[39m\u001b[39m.\u001b[39mextend(x \u001b[39mfor\u001b[39;00m x \u001b[39min\u001b[39;00m \u001b[39mself\u001b[39m\u001b[39m.\u001b[39mcell_and_freevars() \u001b[39mif\u001b[39;00m x \u001b[39mnot\u001b[39;00m \u001b[39min\u001b[39;00m \u001b[39mvars\u001b[39m)\n\u001b[0;32m-> 1956\u001b[0m \u001b[39mself\u001b[39m\u001b[39m.\u001b[39msymbolic_locals \u001b[39m=\u001b[39m collections\u001b[39m.\u001b[39;49mOrderedDict(\n\u001b[1;32m   1957\u001b[0m     (\n\u001b[1;32m   1958\u001b[0m         k,\n\u001b[1;32m   1959\u001b[0m         VariableBuilder(\u001b[39mself\u001b[39;49m, LocalSource(k))(f_locals[k]),\n\u001b[1;32m   1960\u001b[0m     )\n\u001b[1;32m   1961\u001b[0m     \u001b[39mfor\u001b[39;49;00m k \u001b[39min\u001b[39;49;00m \u001b[39mvars\u001b[39;49m\n\u001b[1;32m   1962\u001b[0m     \u001b[39mif\u001b[39;49;00m k \u001b[39min\u001b[39;49;00m f_locals\n\u001b[1;32m   1963\u001b[0m )\n\u001b[1;32m   1965\u001b[0m \u001b[39m# symbolic_locals contains the mapping from original f_locals to the\u001b[39;00m\n\u001b[1;32m   1966\u001b[0m \u001b[39m# Variable objects. During the Variable building phase, each object also\u001b[39;00m\n\u001b[1;32m   1967\u001b[0m \u001b[39m# has its associated guards. At the end, we will accumulate these\u001b[39;00m\n\u001b[0;32m   (...)\u001b[0m\n\u001b[1;32m   1980\u001b[0m \u001b[39m# next invocation when args is not a list, and args[0] is a runtime\u001b[39;00m\n\u001b[1;32m   1981\u001b[0m \u001b[39m# error. Therefore, we recursively add guards for list/dict variable here.\u001b[39;00m\n",
      "File \u001b[0;32m/usr/local/lib/python3.10/dist-packages/torch/_dynamo/symbolic_convert.py:1959\u001b[0m, in \u001b[0;36m<genexpr>\u001b[0;34m(.0)\u001b[0m\n\u001b[1;32m   1954\u001b[0m \u001b[39mvars\u001b[39m\u001b[39m.\u001b[39mextend(x \u001b[39mfor\u001b[39;00m x \u001b[39min\u001b[39;00m \u001b[39mself\u001b[39m\u001b[39m.\u001b[39mcell_and_freevars() \u001b[39mif\u001b[39;00m x \u001b[39mnot\u001b[39;00m \u001b[39min\u001b[39;00m \u001b[39mvars\u001b[39m)\n\u001b[1;32m   1956\u001b[0m \u001b[39mself\u001b[39m\u001b[39m.\u001b[39msymbolic_locals \u001b[39m=\u001b[39m collections\u001b[39m.\u001b[39mOrderedDict(\n\u001b[1;32m   1957\u001b[0m     (\n\u001b[1;32m   1958\u001b[0m         k,\n\u001b[0;32m-> 1959\u001b[0m         VariableBuilder(\u001b[39mself\u001b[39;49m, LocalSource(k))(f_locals[k]),\n\u001b[1;32m   1960\u001b[0m     )\n\u001b[1;32m   1961\u001b[0m     \u001b[39mfor\u001b[39;00m k \u001b[39min\u001b[39;00m \u001b[39mvars\u001b[39m\n\u001b[1;32m   1962\u001b[0m     \u001b[39mif\u001b[39;00m k \u001b[39min\u001b[39;00m f_locals\n\u001b[1;32m   1963\u001b[0m )\n\u001b[1;32m   1965\u001b[0m \u001b[39m# symbolic_locals contains the mapping from original f_locals to the\u001b[39;00m\n\u001b[1;32m   1966\u001b[0m \u001b[39m# Variable objects. During the Variable building phase, each object also\u001b[39;00m\n\u001b[1;32m   1967\u001b[0m \u001b[39m# has its associated guards. At the end, we will accumulate these\u001b[39;00m\n\u001b[0;32m   (...)\u001b[0m\n\u001b[1;32m   1980\u001b[0m \u001b[39m# next invocation when args is not a list, and args[0] is a runtime\u001b[39;00m\n\u001b[1;32m   1981\u001b[0m \u001b[39m# error. Therefore, we recursively add guards for list/dict variable here.\u001b[39;00m\n",
      "File \u001b[0;32m/usr/local/lib/python3.10/dist-packages/torch/_dynamo/variables/builder.py:171\u001b[0m, in \u001b[0;36mVariableBuilder.__call__\u001b[0;34m(self, value)\u001b[0m\n\u001b[1;32m    170\u001b[0m     \u001b[39mreturn\u001b[39;00m \u001b[39mself\u001b[39m\u001b[39m.\u001b[39mtx\u001b[39m.\u001b[39moutput\u001b[39m.\u001b[39mside_effects[value]\n\u001b[0;32m--> 171\u001b[0m \u001b[39mreturn\u001b[39;00m \u001b[39mself\u001b[39;49m\u001b[39m.\u001b[39;49m_wrap(value)\u001b[39m.\u001b[39mclone(\u001b[39m*\u001b[39m\u001b[39m*\u001b[39m\u001b[39mself\u001b[39m\u001b[39m.\u001b[39moptions())\n",
      "File \u001b[0;32m/usr/local/lib/python3.10/dist-packages/torch/_dynamo/variables/builder.py:411\u001b[0m, in \u001b[0;36mVariableBuilder._wrap\u001b[0;34m(self, value)\u001b[0m\n\u001b[1;32m    400\u001b[0m     \u001b[39mreturn\u001b[39;00m NumpyVariable(\n\u001b[1;32m    401\u001b[0m         value,\n\u001b[1;32m    402\u001b[0m         source\u001b[39m=\u001b[39m\u001b[39mself\u001b[39m\u001b[39m.\u001b[39msource,\n\u001b[0;32m   (...)\u001b[0m\n\u001b[1;32m    407\u001b[0m         ),\n\u001b[1;32m    408\u001b[0m     )\n\u001b[1;32m    409\u001b[0m \u001b[39melif\u001b[39;00m (\n\u001b[1;32m    410\u001b[0m     istype(value, (\u001b[39mtype\u001b[39m, types\u001b[39m.\u001b[39mFunctionType))\n\u001b[0;32m--> 411\u001b[0m     \u001b[39mand\u001b[39;00m skipfiles\u001b[39m.\u001b[39mcheck(getfile(value), allow_torch\u001b[39m=\u001b[39m\u001b[39mTrue\u001b[39;00m)\n\u001b[1;32m    412\u001b[0m     \u001b[39mand\u001b[39;00m \u001b[39mnot\u001b[39;00m inspect\u001b[39m.\u001b[39mgetattr_static(value, \u001b[39m\"\u001b[39m\u001b[39m_torchdynamo_inline\u001b[39m\u001b[39m\"\u001b[39m, \u001b[39mFalse\u001b[39;00m)\n\u001b[1;32m    413\u001b[0m ):\n\u001b[1;32m    414\u001b[0m     \u001b[39mreturn\u001b[39;00m SkipFilesVariable(\n\u001b[1;32m    415\u001b[0m         value,\n\u001b[1;32m    416\u001b[0m         source\u001b[39m=\u001b[39m\u001b[39mself\u001b[39m\u001b[39m.\u001b[39msource,\n\u001b[1;32m    417\u001b[0m         guards\u001b[39m=\u001b[39mmake_guards(GuardBuilder\u001b[39m.\u001b[39mFUNCTION_MATCH),\n\u001b[1;32m    418\u001b[0m     )\n",
      "File \u001b[0;32m/usr/local/lib/python3.10/dist-packages/torch/_dynamo/utils.py:633\u001b[0m, in \u001b[0;36mgetfile\u001b[0;34m(obj)\u001b[0m\n\u001b[1;32m    632\u001b[0m \u001b[39mtry\u001b[39;00m:\n\u001b[0;32m--> 633\u001b[0m     \u001b[39mreturn\u001b[39;00m inspect\u001b[39m.\u001b[39;49mgetfile(obj)\n\u001b[1;32m    634\u001b[0m \u001b[39mexcept\u001b[39;00m \u001b[39mTypeError\u001b[39;00m:\n",
      "File \u001b[0;32m/usr/local/lib/python3.10/dist-packages/torch/package/package_importer.py:691\u001b[0m, in \u001b[0;36m_patched_getfile\u001b[0;34m(object)\u001b[0m\n\u001b[1;32m    690\u001b[0m         \u001b[39mreturn\u001b[39;00m _package_imported_modules[\u001b[39mobject\u001b[39m\u001b[39m.\u001b[39m\u001b[39m__module__\u001b[39m]\u001b[39m.\u001b[39m\u001b[39m__file__\u001b[39m\n\u001b[0;32m--> 691\u001b[0m \u001b[39mreturn\u001b[39;00m _orig_getfile(\u001b[39mobject\u001b[39;49m)\n",
      "File \u001b[0;32m/usr/lib/python3.10/inspect.py:785\u001b[0m, in \u001b[0;36mgetfile\u001b[0;34m(object)\u001b[0m\n\u001b[1;32m    784\u001b[0m     \u001b[39mif\u001b[39;00m \u001b[39mobject\u001b[39m\u001b[39m.\u001b[39m\u001b[39m__module__\u001b[39m \u001b[39m==\u001b[39m \u001b[39m'\u001b[39m\u001b[39m__main__\u001b[39m\u001b[39m'\u001b[39m:\n\u001b[0;32m--> 785\u001b[0m         \u001b[39mraise\u001b[39;00m \u001b[39mOSError\u001b[39;00m(\u001b[39m'\u001b[39m\u001b[39msource code not available\u001b[39m\u001b[39m'\u001b[39m)\n\u001b[1;32m    786\u001b[0m \u001b[39mraise\u001b[39;00m \u001b[39mTypeError\u001b[39;00m(\u001b[39m'\u001b[39m\u001b[39m{!r}\u001b[39;00m\u001b[39m is a built-in class\u001b[39m\u001b[39m'\u001b[39m\u001b[39m.\u001b[39mformat(\u001b[39mobject\u001b[39m))\n",
      "\u001b[0;31mOSError\u001b[0m: source code not available\n\n\nYou can suppress this exception and fall back to eager by setting:\n    import torch._dynamo\n    torch._dynamo.config.suppress_errors = True\n",
      "\nThe above exception was the direct cause of the following exception:\n",
      "\u001b[0;31mInternalTorchDynamoError\u001b[0m                  Traceback (most recent call last)",
      "\u001b[1;32m/workspaces/clep/data copy.ipynb Cell 29\u001b[0m line \u001b[0;36m1\n\u001b[0;32m----> <a href='vscode-notebook-cell://dev-container%2B7b22686f737450617468223a222f686f6d652f73746576656e2f4769746875622f636c6570222c226c6f63616c446f636b6572223a66616c73652c22636f6e66696746696c65223a7b22246d6964223a312c2270617468223a222f686f6d652f73746576656e2f4769746875622f636c65702f2e646576636f6e7461696e65722f646576636f6e7461696e65722e6a736f6e222c22736368656d65223a227673636f64652d66696c65486f7374227d7d@ssh-remote%2Baurora/workspaces/clep/data%20copy.ipynb#X40sdnNjb2RlLXJlbW90ZQ%3D%3D?line=0'>1</a>\u001b[0m trainer\u001b[39m.\u001b[39;49mtrain()\n",
      "File \u001b[0;32m/usr/local/lib/python3.10/dist-packages/transformers/trainer.py:1555\u001b[0m, in \u001b[0;36mTrainer.train\u001b[0;34m(self, resume_from_checkpoint, trial, ignore_keys_for_eval, **kwargs)\u001b[0m\n\u001b[1;32m   1553\u001b[0m         hf_hub_utils\u001b[39m.\u001b[39menable_progress_bars()\n\u001b[1;32m   1554\u001b[0m \u001b[39melse\u001b[39;00m:\n\u001b[0;32m-> 1555\u001b[0m     \u001b[39mreturn\u001b[39;00m inner_training_loop(\n\u001b[1;32m   1556\u001b[0m         args\u001b[39m=\u001b[39;49margs,\n\u001b[1;32m   1557\u001b[0m         resume_from_checkpoint\u001b[39m=\u001b[39;49mresume_from_checkpoint,\n\u001b[1;32m   1558\u001b[0m         trial\u001b[39m=\u001b[39;49mtrial,\n\u001b[1;32m   1559\u001b[0m         ignore_keys_for_eval\u001b[39m=\u001b[39;49mignore_keys_for_eval,\n\u001b[1;32m   1560\u001b[0m     )\n",
      "File \u001b[0;32m/usr/local/lib/python3.10/dist-packages/transformers/trainer.py:1860\u001b[0m, in \u001b[0;36mTrainer._inner_training_loop\u001b[0;34m(self, batch_size, args, resume_from_checkpoint, trial, ignore_keys_for_eval)\u001b[0m\n\u001b[1;32m   1857\u001b[0m     \u001b[39mself\u001b[39m\u001b[39m.\u001b[39mcontrol \u001b[39m=\u001b[39m \u001b[39mself\u001b[39m\u001b[39m.\u001b[39mcallback_handler\u001b[39m.\u001b[39mon_step_begin(args, \u001b[39mself\u001b[39m\u001b[39m.\u001b[39mstate, \u001b[39mself\u001b[39m\u001b[39m.\u001b[39mcontrol)\n\u001b[1;32m   1859\u001b[0m \u001b[39mwith\u001b[39;00m \u001b[39mself\u001b[39m\u001b[39m.\u001b[39maccelerator\u001b[39m.\u001b[39maccumulate(model):\n\u001b[0;32m-> 1860\u001b[0m     tr_loss_step \u001b[39m=\u001b[39m \u001b[39mself\u001b[39;49m\u001b[39m.\u001b[39;49mtraining_step(model, inputs)\n\u001b[1;32m   1862\u001b[0m \u001b[39mif\u001b[39;00m (\n\u001b[1;32m   1863\u001b[0m     args\u001b[39m.\u001b[39mlogging_nan_inf_filter\n\u001b[1;32m   1864\u001b[0m     \u001b[39mand\u001b[39;00m \u001b[39mnot\u001b[39;00m is_torch_tpu_available()\n\u001b[1;32m   1865\u001b[0m     \u001b[39mand\u001b[39;00m (torch\u001b[39m.\u001b[39misnan(tr_loss_step) \u001b[39mor\u001b[39;00m torch\u001b[39m.\u001b[39misinf(tr_loss_step))\n\u001b[1;32m   1866\u001b[0m ):\n\u001b[1;32m   1867\u001b[0m     \u001b[39m# if loss is nan or inf simply add the average of previous logged losses\u001b[39;00m\n\u001b[1;32m   1868\u001b[0m     tr_loss \u001b[39m+\u001b[39m\u001b[39m=\u001b[39m tr_loss \u001b[39m/\u001b[39m (\u001b[39m1\u001b[39m \u001b[39m+\u001b[39m \u001b[39mself\u001b[39m\u001b[39m.\u001b[39mstate\u001b[39m.\u001b[39mglobal_step \u001b[39m-\u001b[39m \u001b[39mself\u001b[39m\u001b[39m.\u001b[39m_globalstep_last_logged)\n",
      "File \u001b[0;32m/usr/local/lib/python3.10/dist-packages/transformers/trainer.py:2725\u001b[0m, in \u001b[0;36mTrainer.training_step\u001b[0;34m(self, model, inputs)\u001b[0m\n\u001b[1;32m   2722\u001b[0m     \u001b[39mreturn\u001b[39;00m loss_mb\u001b[39m.\u001b[39mreduce_mean()\u001b[39m.\u001b[39mdetach()\u001b[39m.\u001b[39mto(\u001b[39mself\u001b[39m\u001b[39m.\u001b[39margs\u001b[39m.\u001b[39mdevice)\n\u001b[1;32m   2724\u001b[0m \u001b[39mwith\u001b[39;00m \u001b[39mself\u001b[39m\u001b[39m.\u001b[39mcompute_loss_context_manager():\n\u001b[0;32m-> 2725\u001b[0m     loss \u001b[39m=\u001b[39m \u001b[39mself\u001b[39;49m\u001b[39m.\u001b[39;49mcompute_loss(model, inputs)\n\u001b[1;32m   2727\u001b[0m \u001b[39mif\u001b[39;00m \u001b[39mself\u001b[39m\u001b[39m.\u001b[39margs\u001b[39m.\u001b[39mn_gpu \u001b[39m>\u001b[39m \u001b[39m1\u001b[39m:\n\u001b[1;32m   2728\u001b[0m     loss \u001b[39m=\u001b[39m loss\u001b[39m.\u001b[39mmean()  \u001b[39m# mean() to average on multi-gpu parallel training\u001b[39;00m\n",
      "File \u001b[0;32m/usr/local/lib/python3.10/dist-packages/transformers/trainer.py:2748\u001b[0m, in \u001b[0;36mTrainer.compute_loss\u001b[0;34m(self, model, inputs, return_outputs)\u001b[0m\n\u001b[1;32m   2746\u001b[0m \u001b[39melse\u001b[39;00m:\n\u001b[1;32m   2747\u001b[0m     labels \u001b[39m=\u001b[39m \u001b[39mNone\u001b[39;00m\n\u001b[0;32m-> 2748\u001b[0m outputs \u001b[39m=\u001b[39m model(\u001b[39m*\u001b[39;49m\u001b[39m*\u001b[39;49minputs)\n\u001b[1;32m   2749\u001b[0m \u001b[39m# Save past state if it exists\u001b[39;00m\n\u001b[1;32m   2750\u001b[0m \u001b[39m# TODO: this needs to be fixed and made cleaner later.\u001b[39;00m\n\u001b[1;32m   2751\u001b[0m \u001b[39mif\u001b[39;00m \u001b[39mself\u001b[39m\u001b[39m.\u001b[39margs\u001b[39m.\u001b[39mpast_index \u001b[39m>\u001b[39m\u001b[39m=\u001b[39m \u001b[39m0\u001b[39m:\n",
      "File \u001b[0;32m/usr/local/lib/python3.10/dist-packages/torch/nn/modules/module.py:1501\u001b[0m, in \u001b[0;36mModule._call_impl\u001b[0;34m(self, *args, **kwargs)\u001b[0m\n\u001b[1;32m   1496\u001b[0m \u001b[39m# If we don't have any hooks, we want to skip the rest of the logic in\u001b[39;00m\n\u001b[1;32m   1497\u001b[0m \u001b[39m# this function, and just call forward.\u001b[39;00m\n\u001b[1;32m   1498\u001b[0m \u001b[39mif\u001b[39;00m \u001b[39mnot\u001b[39;00m (\u001b[39mself\u001b[39m\u001b[39m.\u001b[39m_backward_hooks \u001b[39mor\u001b[39;00m \u001b[39mself\u001b[39m\u001b[39m.\u001b[39m_backward_pre_hooks \u001b[39mor\u001b[39;00m \u001b[39mself\u001b[39m\u001b[39m.\u001b[39m_forward_hooks \u001b[39mor\u001b[39;00m \u001b[39mself\u001b[39m\u001b[39m.\u001b[39m_forward_pre_hooks\n\u001b[1;32m   1499\u001b[0m         \u001b[39mor\u001b[39;00m _global_backward_pre_hooks \u001b[39mor\u001b[39;00m _global_backward_hooks\n\u001b[1;32m   1500\u001b[0m         \u001b[39mor\u001b[39;00m _global_forward_hooks \u001b[39mor\u001b[39;00m _global_forward_pre_hooks):\n\u001b[0;32m-> 1501\u001b[0m     \u001b[39mreturn\u001b[39;00m forward_call(\u001b[39m*\u001b[39;49margs, \u001b[39m*\u001b[39;49m\u001b[39m*\u001b[39;49mkwargs)\n\u001b[1;32m   1502\u001b[0m \u001b[39m# Do not call functions when jit is used\u001b[39;00m\n\u001b[1;32m   1503\u001b[0m full_backward_hooks, non_full_backward_hooks \u001b[39m=\u001b[39m [], []\n",
      "File \u001b[0;32m/usr/local/lib/python3.10/dist-packages/torch/_dynamo/eval_frame.py:280\u001b[0m, in \u001b[0;36m_TorchDynamoContext.__call__.<locals>._fn\u001b[0;34m(*args, **kwargs)\u001b[0m\n\u001b[1;32m    278\u001b[0m dynamic_ctx\u001b[39m.\u001b[39m\u001b[39m__enter__\u001b[39m()\n\u001b[1;32m    279\u001b[0m \u001b[39mtry\u001b[39;00m:\n\u001b[0;32m--> 280\u001b[0m     \u001b[39mreturn\u001b[39;00m fn(\u001b[39m*\u001b[39;49margs, \u001b[39m*\u001b[39;49m\u001b[39m*\u001b[39;49mkwargs)\n\u001b[1;32m    281\u001b[0m \u001b[39mfinally\u001b[39;00m:\n\u001b[1;32m    282\u001b[0m     set_eval_frame(prior)\n",
      "File \u001b[0;32m/usr/local/lib/python3.10/dist-packages/torch/nn/modules/module.py:1501\u001b[0m, in \u001b[0;36mModule._call_impl\u001b[0;34m(self, *args, **kwargs)\u001b[0m\n\u001b[1;32m   1496\u001b[0m \u001b[39m# If we don't have any hooks, we want to skip the rest of the logic in\u001b[39;00m\n\u001b[1;32m   1497\u001b[0m \u001b[39m# this function, and just call forward.\u001b[39;00m\n\u001b[1;32m   1498\u001b[0m \u001b[39mif\u001b[39;00m \u001b[39mnot\u001b[39;00m (\u001b[39mself\u001b[39m\u001b[39m.\u001b[39m_backward_hooks \u001b[39mor\u001b[39;00m \u001b[39mself\u001b[39m\u001b[39m.\u001b[39m_backward_pre_hooks \u001b[39mor\u001b[39;00m \u001b[39mself\u001b[39m\u001b[39m.\u001b[39m_forward_hooks \u001b[39mor\u001b[39;00m \u001b[39mself\u001b[39m\u001b[39m.\u001b[39m_forward_pre_hooks\n\u001b[1;32m   1499\u001b[0m         \u001b[39mor\u001b[39;00m _global_backward_pre_hooks \u001b[39mor\u001b[39;00m _global_backward_hooks\n\u001b[1;32m   1500\u001b[0m         \u001b[39mor\u001b[39;00m _global_forward_hooks \u001b[39mor\u001b[39;00m _global_forward_pre_hooks):\n\u001b[0;32m-> 1501\u001b[0m     \u001b[39mreturn\u001b[39;00m forward_call(\u001b[39m*\u001b[39;49margs, \u001b[39m*\u001b[39;49m\u001b[39m*\u001b[39;49mkwargs)\n\u001b[1;32m   1502\u001b[0m \u001b[39m# Do not call functions when jit is used\u001b[39;00m\n\u001b[1;32m   1503\u001b[0m full_backward_hooks, non_full_backward_hooks \u001b[39m=\u001b[39m [], []\n",
      "File \u001b[0;32m/usr/local/lib/python3.10/dist-packages/torch/_dynamo/eval_frame.py:433\u001b[0m, in \u001b[0;36mcatch_errors_wrapper.<locals>.catch_errors\u001b[0;34m(frame, cache_size, frame_state)\u001b[0m\n\u001b[1;32m    430\u001b[0m             \u001b[39mreturn\u001b[39;00m hijacked_callback(frame, cache_size, hooks, frame_state)\n\u001b[1;32m    432\u001b[0m \u001b[39mwith\u001b[39;00m compile_lock:\n\u001b[0;32m--> 433\u001b[0m     \u001b[39mreturn\u001b[39;00m callback(frame, cache_size, hooks, frame_state)\n",
      "File \u001b[0;32m/usr/local/lib/python3.10/dist-packages/torch/_dynamo/convert_frame.py:501\u001b[0m, in \u001b[0;36mconvert_frame.<locals>._convert_frame\u001b[0;34m(frame, cache_size, hooks, frame_state)\u001b[0m\n\u001b[1;32m    499\u001b[0m counters[\u001b[39m\"\u001b[39m\u001b[39mframes\u001b[39m\u001b[39m\"\u001b[39m][\u001b[39m\"\u001b[39m\u001b[39mtotal\u001b[39m\u001b[39m\"\u001b[39m] \u001b[39m+\u001b[39m\u001b[39m=\u001b[39m \u001b[39m1\u001b[39m\n\u001b[1;32m    500\u001b[0m \u001b[39mtry\u001b[39;00m:\n\u001b[0;32m--> 501\u001b[0m     result \u001b[39m=\u001b[39m inner_convert(frame, cache_size, hooks, frame_state)\n\u001b[1;32m    502\u001b[0m     counters[\u001b[39m\"\u001b[39m\u001b[39mframes\u001b[39m\u001b[39m\"\u001b[39m][\u001b[39m\"\u001b[39m\u001b[39mok\u001b[39m\u001b[39m\"\u001b[39m] \u001b[39m+\u001b[39m\u001b[39m=\u001b[39m \u001b[39m1\u001b[39m\n\u001b[1;32m    503\u001b[0m     \u001b[39mreturn\u001b[39;00m result\n",
      "File \u001b[0;32m/usr/local/lib/python3.10/dist-packages/torch/_dynamo/convert_frame.py:122\u001b[0m, in \u001b[0;36mwrap_convert_context.<locals>._fn\u001b[0;34m(*args, **kwargs)\u001b[0m\n\u001b[1;32m    120\u001b[0m cleanup \u001b[39m=\u001b[39m setup_compile_debug()\n\u001b[1;32m    121\u001b[0m \u001b[39mtry\u001b[39;00m:\n\u001b[0;32m--> 122\u001b[0m     \u001b[39mreturn\u001b[39;00m fn(\u001b[39m*\u001b[39;49margs, \u001b[39m*\u001b[39;49m\u001b[39m*\u001b[39;49mkwargs)\n\u001b[1;32m    123\u001b[0m \u001b[39mfinally\u001b[39;00m:\n\u001b[1;32m    124\u001b[0m     cleanup\u001b[39m.\u001b[39mclose()\n",
      "File \u001b[0;32m/usr/local/lib/python3.10/dist-packages/torch/_dynamo/convert_frame.py:337\u001b[0m, in \u001b[0;36mconvert_frame_assert.<locals>._convert_frame_assert\u001b[0;34m(frame, cache_size, hooks, frame_state)\u001b[0m\n\u001b[1;32m    322\u001b[0m initial_deterministic_algorithms_state \u001b[39m=\u001b[39m (\n\u001b[1;32m    323\u001b[0m     torch\u001b[39m.\u001b[39mare_deterministic_algorithms_enabled()\n\u001b[1;32m    324\u001b[0m )\n\u001b[1;32m    326\u001b[0m signpost_event(\n\u001b[1;32m    327\u001b[0m     \u001b[39m\"\u001b[39m\u001b[39mdynamo\u001b[39m\u001b[39m\"\u001b[39m,\n\u001b[1;32m    328\u001b[0m     \u001b[39m\"\u001b[39m\u001b[39m_convert_frame_assert._compile\u001b[39m\u001b[39m\"\u001b[39m,\n\u001b[0;32m   (...)\u001b[0m\n\u001b[1;32m    334\u001b[0m     },\n\u001b[1;32m    335\u001b[0m )\n\u001b[0;32m--> 337\u001b[0m \u001b[39mreturn\u001b[39;00m _compile(\n\u001b[1;32m    338\u001b[0m     frame\u001b[39m.\u001b[39;49mf_code,\n\u001b[1;32m    339\u001b[0m     frame\u001b[39m.\u001b[39;49mf_globals,\n\u001b[1;32m    340\u001b[0m     frame\u001b[39m.\u001b[39;49mf_locals,\n\u001b[1;32m    341\u001b[0m     frame\u001b[39m.\u001b[39;49mf_builtins,\n\u001b[1;32m    342\u001b[0m     compiler_fn,\n\u001b[1;32m    343\u001b[0m     one_graph,\n\u001b[1;32m    344\u001b[0m     export,\n\u001b[1;32m    345\u001b[0m     export_constraints,\n\u001b[1;32m    346\u001b[0m     hooks,\n\u001b[1;32m    347\u001b[0m     frame,\n\u001b[1;32m    348\u001b[0m     frame_state\u001b[39m=\u001b[39;49mframe_state,\n\u001b[1;32m    349\u001b[0m )\n",
      "File \u001b[0;32m/usr/local/lib/python3.10/dist-packages/torch/_dynamo/utils.py:177\u001b[0m, in \u001b[0;36mdynamo_timed.<locals>.dynamo_timed_inner.<locals>.time_wrapper\u001b[0;34m(*args, **kwargs)\u001b[0m\n\u001b[1;32m    175\u001b[0m \u001b[39mwith\u001b[39;00m torch\u001b[39m.\u001b[39mprofiler\u001b[39m.\u001b[39mrecord_function(\u001b[39mf\u001b[39m\u001b[39m\"\u001b[39m\u001b[39m{\u001b[39;00mkey\u001b[39m}\u001b[39;00m\u001b[39m (dynamo_timed)\u001b[39m\u001b[39m\"\u001b[39m):\n\u001b[1;32m    176\u001b[0m     t0 \u001b[39m=\u001b[39m time\u001b[39m.\u001b[39mtime()\n\u001b[0;32m--> 177\u001b[0m     r \u001b[39m=\u001b[39m func(\u001b[39m*\u001b[39;49margs, \u001b[39m*\u001b[39;49m\u001b[39m*\u001b[39;49mkwargs)\n\u001b[1;32m    178\u001b[0m     time_spent \u001b[39m=\u001b[39m time\u001b[39m.\u001b[39mtime() \u001b[39m-\u001b[39m t0\n\u001b[1;32m    179\u001b[0m \u001b[39m# print(f\"Dynamo timer: key={key}, latency={latency:.2f} sec\")\u001b[39;00m\n",
      "File \u001b[0;32m/usr/local/lib/python3.10/dist-packages/torch/_dynamo/convert_frame.py:489\u001b[0m, in \u001b[0;36m_compile\u001b[0;34m(code, globals, locals, builtins, compiler_fn, one_graph, export, export_constraints, hooks, frame, frame_state)\u001b[0m\n\u001b[1;32m    487\u001b[0m exception_handler(e, code, frame)\n\u001b[1;32m    488\u001b[0m \u001b[39m# TODO: Why???  Why not raise the original exception as is\u001b[39;00m\n\u001b[0;32m--> 489\u001b[0m \u001b[39mraise\u001b[39;00m InternalTorchDynamoError() \u001b[39mfrom\u001b[39;00m \u001b[39me\u001b[39;00m\n",
      "\u001b[0;31mInternalTorchDynamoError\u001b[0m: "
     ]
    }
   ],
   "source": [
    "trainer.train()\n"
   ]
  },
  {
   "cell_type": "code",
   "execution_count": null,
   "metadata": {},
   "outputs": [],
   "source": []
  }
 ],
 "metadata": {
  "kernelspec": {
   "display_name": "Python 3",
   "language": "python",
   "name": "python3"
  },
  "language_info": {
   "codemirror_mode": {
    "name": "ipython",
    "version": 3
   },
   "file_extension": ".py",
   "mimetype": "text/x-python",
   "name": "python",
   "nbconvert_exporter": "python",
   "pygments_lexer": "ipython3",
   "version": "3.10.6"
  }
 },
 "nbformat": 4,
 "nbformat_minor": 2
}
