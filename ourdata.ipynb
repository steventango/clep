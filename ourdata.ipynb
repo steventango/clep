{
 "cells": [
  {
   "cell_type": "code",
   "execution_count": 1,
   "metadata": {},
   "outputs": [],
   "source": [
    "import numpy as np\n"
   ]
  },
  {
   "cell_type": "code",
   "execution_count": 2,
   "metadata": {},
   "outputs": [],
   "source": [
    "dataset_eeg = np.load('dataset_eeg.npy')\n",
    "dataset_image = np.load('dataset_image.npy')\n",
    "dataset_label = np.load('dataset_label.npy')\n"
   ]
  },
  {
   "cell_type": "code",
   "execution_count": 3,
   "metadata": {},
   "outputs": [
    {
     "data": {
      "text/plain": [
       "(505, 15, 400)"
      ]
     },
     "execution_count": 3,
     "metadata": {},
     "output_type": "execute_result"
    }
   ],
   "source": [
    "dataset_eeg.shape\n"
   ]
  },
  {
   "cell_type": "code",
   "execution_count": 4,
   "metadata": {},
   "outputs": [
    {
     "data": {
      "text/plain": [
       "(505,)"
      ]
     },
     "execution_count": 4,
     "metadata": {},
     "output_type": "execute_result"
    }
   ],
   "source": [
    "dataset_label.shape\n"
   ]
  },
  {
   "cell_type": "code",
   "execution_count": 5,
   "metadata": {},
   "outputs": [],
   "source": [
    "dataset_eeg = dataset_eeg[:, 1:5]\n"
   ]
  },
  {
   "cell_type": "code",
   "execution_count": 6,
   "metadata": {},
   "outputs": [
    {
     "data": {
      "text/plain": [
       "(505, 4, 400)"
      ]
     },
     "execution_count": 6,
     "metadata": {},
     "output_type": "execute_result"
    }
   ],
   "source": [
    "dataset_eeg.shape\n"
   ]
  },
  {
   "cell_type": "code",
   "execution_count": 7,
   "metadata": {},
   "outputs": [
    {
     "name": "stderr",
     "output_type": "stream",
     "text": [
      "/usr/local/lib/python3.10/dist-packages/tqdm/auto.py:21: TqdmWarning: IProgress not found. Please update jupyter and ipywidgets. See https://ipywidgets.readthedocs.io/en/stable/user_install.html\n",
      "  from .autonotebook import tqdm as notebook_tqdm\n"
     ]
    }
   ],
   "source": [
    "from datasets import Dataset, DatasetDict\n",
    "\n",
    "dataset = Dataset.from_dict({'eeg': dataset_eeg, 'label': dataset_label})\n",
    "dataset = dataset.train_test_split(test_size=0.1)\n"
   ]
  },
  {
   "cell_type": "code",
   "execution_count": 8,
   "metadata": {},
   "outputs": [
    {
     "data": {
      "text/plain": [
       "([7, 4, 3, 9, 0, 5, 8, 9],\n",
       " [[49406, 4558, 49407],\n",
       "  [49406, 8700, 49407],\n",
       "  [49406, 2368, 49407],\n",
       "  [49406, 4629, 49407],\n",
       "  [49406, 16451, 49407],\n",
       "  [49406, 1929, 49407],\n",
       "  [49406, 1158, 49407],\n",
       "  [49406, 4629, 49407]],\n",
       " (8, 4, 400, 400))"
      ]
     },
     "execution_count": 8,
     "metadata": {},
     "output_type": "execute_result"
    }
   ],
   "source": [
    "import numpy as np\n",
    "from datasets import load_dataset\n",
    "from transformers import CLIPTokenizerFast\n",
    "from transformers.utils.logging import set_verbosity_warning\n",
    "\n",
    "from trainable_clip_model import TrainableCLIPModel\n",
    "from wavelet_spectrogram import cwt_spectrogram\n",
    "\n",
    "\n",
    "\n",
    "# %%\n",
    "# B, C, H, W\n",
    "C = 4\n",
    "H, W = 168, 400\n",
    "L = 400\n",
    "S = max(H, W)\n",
    "\n",
    "\n",
    "# %%\n",
    "map_digit_to_token = {\n",
    "    0: \"airplane\",\n",
    "    1: \"automobile\",\n",
    "    2: \"bird\",\n",
    "    3: \"cat\",\n",
    "    4: \"deer\",\n",
    "    5: \"dog\",\n",
    "    6: \"frog\",\n",
    "    7: \"horse\",\n",
    "    8: \"ship\",\n",
    "    9: \"truck\",\n",
    "}\n",
    "\n",
    "\n",
    "# %%\n",
    "tokenizer = CLIPTokenizerFast.from_pretrained(\"openai/clip-vit-large-patch14\")\n",
    "\n",
    "map_digit_to_input_ids = {\n",
    "    digit: tokenizer(f\"{map_digit_to_token[digit]}\", padding=True).input_ids\n",
    "    for digit in range(10)\n",
    "}\n",
    "\n",
    "def preprocess(inputs):\n",
    "  B = len(inputs[\"label\"])\n",
    "  inputs[\"labels\"] = inputs[\"label\"]\n",
    "  inputs[\"input_ids\"] = [map_digit_to_input_ids[label] for label in inputs[\"label\"]]\n",
    "  inputs[\"attention_mask\"] = [[1] * 3] * B\n",
    "  samples = np.zeros((B, C, S, S))\n",
    "  eeg = np.array(inputs[\"eeg\"])\n",
    "  for b in range(B):\n",
    "    for i in range(C):\n",
    "      sample = eeg[b, i]\n",
    "      power, *_ = cwt_spectrogram(sample, 200, nNotes=24, detrend=True, normalize=True)\n",
    "      samples[b, i, :min(H, S), :min(W, S)] = power.squeeze()\n",
    "  inputs[\"pixel_values\"] = samples\n",
    "  return inputs\n",
    "\n",
    "\n",
    "# %%\n",
    "item = preprocess(dataset[\"train\"][:8])\n",
    "item[\"labels\"], item[\"input_ids\"], item['pixel_values'].shape\n"
   ]
  },
  {
   "cell_type": "code",
   "execution_count": 11,
   "metadata": {},
   "outputs": [
    {
     "name": "stderr",
     "output_type": "stream",
     "text": [
      "Map: 100%|██████████| 454/454 [00:25<00:00, 17.88 examples/s]\n",
      "Map: 100%|██████████| 51/51 [00:02<00:00, 17.32 examples/s]\n"
     ]
    },
    {
     "name": "stdout",
     "output_type": "stream",
     "text": [
      "done preprocessing!\n"
     ]
    },
    {
     "name": "stderr",
     "output_type": "stream",
     "text": [
      "Saving the dataset (24/24 shards): 100%|██████████| 454/454 [01:01<00:00,  7.42 examples/s]\n",
      "Saving the dataset (24/24 shards): 100%|██████████| 51/51 [00:08<00:00,  6.03 examples/s]\n"
     ]
    }
   ],
   "source": [
    "# %%\n",
    "remove_columns = [\"eeg\", \"label\"]\n",
    "\n",
    "\n",
    "# %%\n",
    "preprocessed_dataset = dataset.map(preprocess, batched=True, remove_columns=remove_columns)\n",
    "print(\"done preprocessing!\")\n",
    "# %%\n",
    "preprocessed_dataset.save_to_disk(\"our_data\", num_proc=24)\n"
   ]
  }
 ],
 "metadata": {
  "kernelspec": {
   "display_name": "Python 3",
   "language": "python",
   "name": "python3"
  },
  "language_info": {
   "codemirror_mode": {
    "name": "ipython",
    "version": 3
   },
   "file_extension": ".py",
   "mimetype": "text/x-python",
   "name": "python",
   "nbconvert_exporter": "python",
   "pygments_lexer": "ipython3",
   "version": "3.10.6"
  }
 },
 "nbformat": 4,
 "nbformat_minor": 2
}
